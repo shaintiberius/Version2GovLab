{
 "cells": [
  {
   "cell_type": "code",
   "execution_count": 2,
   "id": "4af15d34",
   "metadata": {},
   "outputs": [],
   "source": [
    "import pandas as pd"
   ]
  },
  {
   "cell_type": "code",
   "execution_count": 3,
   "id": "cdb2322a",
   "metadata": {},
   "outputs": [],
   "source": [
    "import numpy as np"
   ]
  },
  {
   "cell_type": "code",
   "execution_count": 4,
   "id": "4ec11cc1",
   "metadata": {},
   "outputs": [
    {
     "name": "stdout",
     "output_type": "stream",
     "text": [
      "      A   B   C   D   E   F   G   H   I   J   K   L\n",
      "0    58  35  26  36  44  21  76  15  84  69  40  29\n",
      "1    39  84  38  90  23  35  38  15   8  45  53  13\n",
      "2    14  35  74  89  88  90  72  52  58  51  68   3\n",
      "3    69  81  23  21   2  91  67  60  62  65  14  37\n",
      "4    46  31   1  75  62   4  78  52  70   9   7  64\n",
      "..   ..  ..  ..  ..  ..  ..  ..  ..  ..  ..  ..  ..\n",
      "995  82  64  31  60  67  68  58  31  82  13  99  17\n",
      "996  92   4  56  45  27  55  98  13  73  32  62  45\n",
      "997  45  75  66  44  89  41  61  61  28  86  33  43\n",
      "998  66  86  91  69  57  95  97  75  62   5  20  26\n",
      "999  67  39  97  89   0  19  42  44  57  50  37  37\n",
      "\n",
      "[1000 rows x 12 columns]\n"
     ]
    }
   ],
   "source": [
    "df = pd.DataFrame (np.random.randint(0,100, size = (1000,12)), columns = list('ABCDEFGHIJKL')) \n",
    "print (df)"
   ]
  },
  {
   "cell_type": "code",
   "execution_count": 7,
   "id": "c00ebaa3",
   "metadata": {},
   "outputs": [
    {
     "name": "stdout",
     "output_type": "stream",
     "text": [
      "<bound method NDFrame.head of        FPOVCUT  FPERSONS  FHEADIDX  FSPOUIDX  FOWNU6  FRELU6  FKIND  FKINDEX  \\\n",
      "0        20244         3         1         2       0       0      1        1   \n",
      "1        20244         3         1         2       0       0      1        1   \n",
      "2        12413         1         1         0       0       0      2        3   \n",
      "3        17839         2         1         0       0       0      2        3   \n",
      "4        13465         1         3         0       0       0      3        4   \n",
      "...        ...       ...       ...       ...     ...     ...    ...      ...   \n",
      "73146    37174         3         4         5       1       1      1        1   \n",
      "73147    13465         1         1         0       0       0      2        3   \n",
      "73148    12413         1         1         0       0       0      2        3   \n",
      "73149    15644         2         1         2       0       0      1        1   \n",
      "73150    17331         2         1         2       0       0      1        2   \n",
      "\n",
      "       FTYPE  FRELU18  ...  F_MV_SL  I_FHIPVAL  I_FHIPVAL2  I_FMEDVAL  \\\n",
      "0          1        0  ...        0          1           1          0   \n",
      "1          1        0  ...        0          0           0          0   \n",
      "2          2        0  ...        0          1           1          0   \n",
      "3          1        1  ...      105          0           0          0   \n",
      "4          5        0  ...        0          0           0          0   \n",
      "...      ...      ...  ...      ...        ...         ...        ...   \n",
      "73146      3        1  ...        0          1           1          1   \n",
      "73147      2        0  ...        0          3           3          3   \n",
      "73148      2        0  ...        0          0           0          0   \n",
      "73149      1        0  ...        0          0           0          0   \n",
      "73150      1        0  ...        0          3           3          3   \n",
      "\n",
      "       I_FMOOP  I_FMOOP2  I_FOTCVAL  POVLL  FILEDATE  YYYYMM  \n",
      "0            1         1          0      5     81921  202103  \n",
      "1            0         0          0     14     81921  202103  \n",
      "2            1         1          1      5     81921  202103  \n",
      "3            0         0          0      1     81921  202103  \n",
      "4            0         0          0     12     81921  202103  \n",
      "...        ...       ...        ...    ...       ...     ...  \n",
      "73146        1         1          1     12     81921  202103  \n",
      "73147        3         3          3     12     81921  202103  \n",
      "73148        0         0          0      7     81921  202103  \n",
      "73149        0         0          0     14     81921  202103  \n",
      "73150        3         3          3     10     81921  202103  \n",
      "\n",
      "[73151 rows x 85 columns]>\n"
     ]
    }
   ],
   "source": [
    "df = pd.read_csv('data/ffpub21.csv')\n",
    "print(df.head)"
   ]
  },
  {
   "cell_type": "code",
   "execution_count": 8,
   "id": "2d37c8eb",
   "metadata": {},
   "outputs": [
    {
     "name": "stdout",
     "output_type": "stream",
     "text": [
      "['FPOVCUT', 'FPERSONS', 'FHEADIDX', 'FSPOUIDX', 'FOWNU6', 'FRELU6', 'FKIND', 'FKINDEX', 'FTYPE', 'FRELU18', 'FOWNU18', 'FLASTIDX', 'FMLASIDX', 'FH_SEQ', 'FAMLIS', 'FANNVAL', 'FCSPVAL', 'FDISVAL', 'FDIVVAL', 'FDSTVAL', 'FEARNVAL', 'FEDVAL', 'FFINVAL', 'FFPOS', 'FFRVAL', 'FHIP_VAL', 'FHIP_VAL2', 'FINC_ANN', 'FINC_CSP', 'FINC_DIS', 'FINC_DIV', 'FINC_DST', 'FINC_ED', 'FINC_FIN', 'FINC_FR', 'FINC_INT', 'FINC_OI', 'FINC_PAW', 'FINC_PEN', 'FINC_RNT', 'FINC_SE', 'FINC_SS', 'FINC_SSI', 'FINC_SUR', 'FINC_UC', 'FINC_VET', 'FINC_WC', 'FINC_WS', 'FINTVAL', 'FMED_VAL', 'FMOOP', 'FMOOP2', 'FOIVAL', 'FOTC_VAL', 'FOTHVAL', 'FPAWVAL', 'FPCTCUT', 'FPENVAL', 'FRECORD', 'FRNTVAL', 'FRSPOV', 'FRSPPCT', 'FSEVAL', 'FSPANISH', 'FSSIVAL', 'FSSVAL', 'FSUP_WGT', 'FSURVAL', 'FTOTVAL', 'FTOT_R', 'FUCVAL', 'FVETVAL', 'FWCVAL', 'FWSVAL', 'F_MV_FS', 'F_MV_SL', 'I_FHIPVAL', 'I_FHIPVAL2', 'I_FMEDVAL', 'I_FMOOP', 'I_FMOOP2', 'I_FOTCVAL', 'POVLL', 'FILEDATE', 'YYYYMM']\n"
     ]
    }
   ],
   "source": [
    "#list columns in data frame\n",
    "print(list(df))"
   ]
  },
  {
   "cell_type": "code",
   "execution_count": 9,
   "id": "46788ef7",
   "metadata": {},
   "outputs": [
    {
     "name": "stdout",
     "output_type": "stream",
     "text": [
      "   (Types of Married Familes)   freq\n",
      "0                           1  31976\n",
      "3                           2    330\n",
      "2                           3  17439\n",
      "1                           4  23406\n"
     ]
    }
   ],
   "source": [
    "col = 'FKINDEX' #<-edit this value! column name as it appears in dataframe\n",
    "col_name = '(Types of Married Familes)' #<-edit this value! descriptive name for column\n",
    "freq = df[col].value_counts().rename_axis(col_name).reset_index(name='freq')\n",
    "freq = freq.sort_values(by = col_name)\n",
    "print(freq)"
   ]
  },
  {
   "cell_type": "code",
   "execution_count": 17,
   "id": "65e418e2",
   "metadata": {},
   "outputs": [
    {
     "name": "stdout",
     "output_type": "stream",
     "text": [
      "           (Types of Married Familes)   freq\n",
      "0  Opposite-sex married couple family  31976\n",
      "3      Same-sex married couple family    330\n",
      "2              Male reference person   17439\n",
      "1             Female reference person  23406\n"
     ]
    }
   ],
   "source": [
    "codebook = [['0', 'Types of Married Families'], #<- if appropriate, replace these values based on codebook or data dictionary for your dataset\n",
    "            ['1', 'Opposite-sex married couple family'], \n",
    "            ['2', 'Same-sex married couple family'], \n",
    "            ['3', 'Male reference person '], \n",
    "            ['4', 'Female reference person']]\n",
    "for lbl in codebook:\n",
    "    freq[col_name] = freq[col_name].replace(int(lbl[0]), lbl[1])\n",
    "\n",
    "print(freq)"
   ]
  },
  {
   "cell_type": "code",
   "execution_count": 18,
   "id": "bb10847b",
   "metadata": {},
   "outputs": [
    {
     "data": {
      "image/png": "[encoded data removed]",
      "text/plain": [
       "<Figure size 432x288 with 1 Axes>"
      ]
     },
     "metadata": {
      "needs_background": "light"
     },
     "output_type": "display_data"
    }
   ],
   "source": [
    "ax = freq.plot.barh(x=col_name, y='freq', rot=0)"
   ]
  }
 ],
 "metadata": {
  "kernelspec": {
   "display_name": "Python 3 (ipykernel)",
   "language": "python",
   "name": "python3"
  },
  "language_info": {
   "codemirror_mode": {
    "name": "ipython",
    "version": 3
   },
   "file_extension": ".py",
   "mimetype": "text/x-python",
   "name": "python",
   "nbconvert_exporter": "python",
   "pygments_lexer": "ipython3",
   "version": "3.9.12"
  }
 },
 "nbformat": 4,
 "nbformat_minor": 5
}
